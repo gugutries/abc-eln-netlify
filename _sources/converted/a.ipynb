{
 "cells": [
  {
   "cell_type": "markdown",
   "id": "5eee319f",
   "metadata": {},
   "source": []
  }
 ],
 "metadata": {
  "jupytext": {
   "cell_metadata_filter": "-all",
   "main_language": "python",
   "notebook_metadata_filter": "-all"
  }
 },
 "nbformat": 4,
 "nbformat_minor": 5
}
